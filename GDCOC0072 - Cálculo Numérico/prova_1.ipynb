{
 "cells": [
  {
   "cell_type": "markdown",
   "metadata": {},
   "source": [
    "# Prova 1"
   ]
  },
  {
   "cell_type": "markdown",
   "metadata": {},
   "source": [
    "### Importação de bibliotecas"
   ]
  },
  {
   "cell_type": "code",
   "execution_count": 3,
   "metadata": {},
   "outputs": [],
   "source": [
    "import numpy as np\n",
    "import math\n",
    "import sympy as sy\n",
    "import matplotlib.pyplot as plt\n",
    "import pandas as pd\n",
    "import seaborn as sns"
   ]
  },
  {
   "cell_type": "markdown",
   "metadata": {},
   "source": [
    "<hr>"
   ]
  },
  {
   "cell_type": "markdown",
   "metadata": {},
   "source": [
    "## Questão 1\n",
    "As duas expressões a seguir podem ser usadas para calcular a abscissa da interseção da reta, que passa pelos pontos ($x_0$ , $y_0$ ) e ($x_1$ , $y_1$) , com o eixo $x$.\n",
    "\n",
    "- Algoritmo 1\n",
    "$$x = \\frac{x_0y_1 - x_1y_0}{y_1 - y_0}$$\n",
    "\n",
    "- Algoritmo 2\n",
    "$$x = x_0 - \\frac{(x_1 - x_0)y_0}{y_1 - y_0}$$\n",
    "\n",
    "Considere os pontos A = (1.31, 3.24) e B = (1.93, 4.76):\n",
    "\n",
    "  a) Encontre o valor da abscissa da interseção da reta, que passa por A e B, com o eixo x, usando um dos algoritmos acima."
   ]
  },
  {
   "cell_type": "code",
   "execution_count": 2,
   "metadata": {},
   "outputs": [
    {
     "name": "stdout",
     "output_type": "stream",
     "text": [
      "-0.011578947368421534\n"
     ]
    }
   ],
   "source": [
    "'''\n",
    "    Utilizaremos aqui o Algoritmo 1\n",
    "    pX aqui equivale à um ponto com duas coordenadas, representada por uma tupla (x, y)\n",
    "    x0 = p0[0]\n",
    "    y0 = p0[1]\n",
    "    x1 = p1[0]\n",
    "    y1 = p1[1]\n",
    "'''\n",
    "def f(p0: tuple, p1: tuple):\n",
    "    return (p0[0]*p1[1] - p1[0]*p0[1])/(p1[1] - p0[1])\n",
    "\n",
    "a = (1.31, 3.24)\n",
    "b = (1.93, 4.76)\n",
    "\n",
    "print(f(a, b))"
   ]
  },
  {
   "cell_type": "markdown",
   "metadata": {},
   "source": [
    "b) Considere o sistema de ponto flutuante F= F(10,3,-3,3), encontre o valor da abscissa da interseção da reta, que passa por A e B, com o eixo x, usando o algoritmo (I)."
   ]
  },
  {
   "cell_type": "code",
   "execution_count": 3,
   "metadata": {},
   "outputs": [
    {
     "name": "stdout",
     "output_type": "stream",
     "text": [
      "x0*y1\n",
      "Original: 6.2356\n",
      "No sistema: 6.24\n",
      "\n",
      "x1*y0\n",
      "Original: 6.2532000000000005\n",
      "No sistema: 6.25\n",
      "\n",
      "x0*y1 - x1*y0\n",
      "Original: -0.017600000000000726\n",
      "No sistema: -0.01\n",
      "\n",
      "y1 - y0\n",
      "Original: 1.5199999999999996\n",
      "No sistema: 1.52\n",
      "\n",
      "Resultado\n",
      "Original: -0.011578947368421534\n",
      "No sistema: -0.00658\n",
      "\n"
     ]
    }
   ],
   "source": [
    "# Teremos de fazer as contas envolvidas uma por vez, fazendo os arrendondamentos quando necessários\n",
    "print(f'x0*y1\\nOriginal: {a[0] * b[1]}\\nNo sistema: {format(a[0] * b[1], \".3g\")}\\n')\n",
    "print(f'x1*y0\\nOriginal: {b[0] * a[1]}\\nNo sistema: {format(b[0] * a[1], \".3g\")}\\n')\n",
    "print(f'x0*y1 - x1*y0\\nOriginal: {a[0]*b[1] - b[0]*a[1]}\\nNo sistema: {format(6.24 - 6.25, \".3g\")}\\n')\n",
    "print(f'y1 - y0\\nOriginal: {b[1] - a[1]}\\nNo sistema: {format(b[1] - a[1], \".3g\")}\\n')\n",
    "print(f'Resultado\\nOriginal: {f(a, b)}\\nNo sistema: {format((-0.01/1.52), \".3g\")}\\n')"
   ]
  },
  {
   "cell_type": "markdown",
   "metadata": {},
   "source": [
    "c) Considere o sistema de ponto flutuante F= F(10,3,-3,3), encontre o valor da abscissa da interseção da reta, que passa por A e B, com o eixo x, usando o algoritmo (II)."
   ]
  },
  {
   "cell_type": "code",
   "execution_count": 4,
   "metadata": {},
   "outputs": [
    {
     "name": "stdout",
     "output_type": "stream",
     "text": [
      "x1 - x0\n",
      "Original: 0.6199999999999999\n",
      "No sistema: 0.62\n",
      "\n",
      "(x1 - x0)y0\n",
      "Original: 2.0088\n",
      "No sistema: 2.01\n",
      "\n",
      "y1 - y0\n",
      "Original: 1.5199999999999996\n",
      "No sistema: 1.52\n",
      "\n",
      "(x1-x0)y0 / (y1-y0)\n",
      "Original: 1.3215789473684214\n",
      "No sistema: 1.32\n",
      "\n",
      "Resultado\n",
      "Original: -0.011578947368421534\n",
      "No sistema: -0.01\n",
      "\n"
     ]
    }
   ],
   "source": [
    "# Teremos de fazer as contas envolvidas uma por vez, fazendo os arrendondamentos quando necessários\n",
    "print(f'x1 - x0\\nOriginal: {b[0] - a[0]}\\nNo sistema: {format(b[0] - a[0], \".3g\")}\\n')\n",
    "print(f'(x1 - x0)y0\\nOriginal: {(b[0] - a[0])*a[1]}\\nNo sistema: {format(0.62 * a[1], \".3g\")}\\n')\n",
    "print(f'y1 - y0\\nOriginal: {b[1] - a[1]}\\nNo sistema: {format(b[1] - a[1], \".3g\")}\\n')\n",
    "print(f'(x1-x0)y0 / (y1-y0)\\nOriginal: {((b[0] - a[0])*a[1])/(b[1] - a[1])}\\nNo sistema: {format(2.01/1.52, \".3g\")}\\n')\n",
    "print(f'Resultado\\nOriginal: {f(a, b)}\\nNo sistema: {format(a[0] -1.32, \".3g\")}\\n')"
   ]
  },
  {
   "cell_type": "markdown",
   "metadata": {},
   "source": [
    "d) Compare os resultados obtidos nos itens (b) e (c) com o resultado obtido no item (a). Comente."
   ]
  },
  {
   "cell_type": "code",
   "execution_count": 5,
   "metadata": {},
   "outputs": [
    {
     "name": "stdout",
     "output_type": "stream",
     "text": [
      "Diferença Algoritmo 1: 0.004998947368421534\n",
      "Diferença Algoritmo 2: 0.0015789473684215335\n"
     ]
    }
   ],
   "source": [
    "print(f'Diferença Algoritmo 1: {np.abs(f(a, b)) - np.abs(-0.00658)}')\n",
    "print(f'Diferença Algoritmo 2: {np.abs(f(a, b)) - np.abs(-0.01)}')"
   ]
  },
  {
   "cell_type": "markdown",
   "metadata": {},
   "source": [
    "**Resposta:** Como podemos observar, o Algoritmo 2 foi capaz de obter um resultado mais próximo do real apesar de fazer uso do mesmo sistema de ponto flutuante, o que nos indica que é um algoritmo com uma maior estabilidade numérica em relação ao Algoritmo 1"
   ]
  },
  {
   "cell_type": "markdown",
   "metadata": {},
   "source": [
    "<hr>"
   ]
  },
  {
   "cell_type": "markdown",
   "metadata": {},
   "source": [
    "## Questão 2\n",
    "Você já se perguntou como o computador calcula funções como seno e cosseno? Computadores antigos usavam tabelas armazenadas na memória, isto é, para um determinado ângulo existia um valor pré-determinado para uma função trigonométrica associada ao mesmo. Nos dias de hoje os computadores usam outra técnica. Matematicamente pode ser mostrado que $sen(x)$, por exemplo, é a soma de uma série infinita (chamada de série de Taylor) como especificada a seguir.\n",
    "$$\\text{sen}(x) = x - \\frac{x^3}{3!} + \\frac{x^5}{5!} - \\frac{x^7}{7!} + \\frac{x^9}{9!}$$\n",
    "Use a série de Taylor para calcular $sen(K)$ em um sistema de ponto flutuante F= F(10,5,-10,10). Compare com o valor exato do $sen(K)$, e justifique possíveis erros."
   ]
  },
  {
   "cell_type": "code",
   "execution_count": 6,
   "metadata": {},
   "outputs": [],
   "source": [
    "from math import factorial as fac"
   ]
  },
  {
   "cell_type": "markdown",
   "metadata": {},
   "source": [
    "Primeiro, definiremos uma função auxiliar que nos ajudará a colocar um dado número na quantidade de número significativos estipulada:"
   ]
  },
  {
   "cell_type": "code",
   "execution_count": 7,
   "metadata": {},
   "outputs": [],
   "source": [
    "def fl(number):\n",
    "    return float(format(number, '.5g'))"
   ]
  },
  {
   "cell_type": "markdown",
   "metadata": {},
   "source": [
    "E agora, criaremos a função que calculará o seno como descrito na função do enunciado:"
   ]
  },
  {
   "cell_type": "code",
   "execution_count": 8,
   "metadata": {},
   "outputs": [],
   "source": [
    "def sen(x):\n",
    "    return x - x**3/fac(3) + x**5/fac(5) - x**7/fac(7) + x**9/fac(9)"
   ]
  },
  {
   "cell_type": "markdown",
   "metadata": {},
   "source": [
    "E criaremos a mesma função, mas agora de acordo com o sistema de ponto flutuante proposto."
   ]
  },
  {
   "cell_type": "code",
   "execution_count": 9,
   "metadata": {},
   "outputs": [],
   "source": [
    "def floatingSen(x):\n",
    "    return fl(fl(x) - fl(fl(fl(x**3)/fl(fac(3))) + fl(fl(fl(x**5)/fl(fac(5))) - fl(fl(fl(x**7)/fl(fac(7))) + fl(fl(x**9)/fl(fac(9)))))))"
   ]
  },
  {
   "cell_type": "markdown",
   "metadata": {},
   "source": [
    "Como o K é dado em graus, devemos fazer a devida conversão para radiano para que nossa função funcione"
   ]
  },
  {
   "cell_type": "code",
   "execution_count": 12,
   "metadata": {},
   "outputs": [
    {
     "name": "stdout",
     "output_type": "stream",
     "text": [
      "Seno com sistema de ponto flutuante definido: 0.22494\n",
      "Seno com série de taylor:                     0.22495105434386706\n",
      "Seno com NumPy:                               0.224951054343865\n"
     ]
    }
   ],
   "source": [
    "angle = 13 * np.pi/180\n",
    "print(f'Seno com sistema de ponto flutuante definido: {floatingSen(angle)}')\n",
    "print(f'Seno com série de taylor:                     {sen(angle)}')\n",
    "print(f'Seno com NumPy:                               {np.sin(angle)}')\n"
   ]
  },
  {
   "cell_type": "markdown",
   "metadata": {},
   "source": [
    "**Resposta:** Há dois fatores principais que podemos evidenciar como responsáveis pelo erro em nossa aproximação. Um deles, porém menor, é o fato de estarmos utilizando um pequeno número de termos da série de Taylor. Já o outro, e principal fator, é o nosso sistema de ponto flutuante, tal sistema que não consegue lidar com números grandes - que aparecem frequentemente na série de Taylor, devido às operações exponenciais e fatoriais-, visto que só podemos ter 5 dígitos significativos."
   ]
  },
  {
   "cell_type": "markdown",
   "metadata": {},
   "source": [
    "<hr>"
   ]
  },
  {
   "cell_type": "markdown",
   "metadata": {},
   "source": [
    "## Questão 3\n",
    "Resolva numericamente a inequação\n",
    "$$e^{-x^2} < 2x$$\n",
    "usando TODOS os quatro métodos estudados (Bissecção, Posição Falsa, Newton e Secante). Compare os resultados da quarta iteração com a raiz exata ξ = 0.4194, através do erro relativo. Apresente o passo a passo do método aplicado (Fase I e Fase II)"
   ]
  },
  {
   "cell_type": "markdown",
   "metadata": {},
   "source": [
    "### Fase 1"
   ]
  },
  {
   "cell_type": "code",
   "execution_count": 126,
   "metadata": {},
   "outputs": [],
   "source": [
    "def f(x):\n",
    "    return np.e**(-x**2) - 2*x\n",
    "\n",
    "x_real = 0.4194"
   ]
  },
  {
   "cell_type": "markdown",
   "metadata": {},
   "source": [
    "Vamos plotar o gráfico, para poder ter uma ideia do intervalo na qual a raíz está contida"
   ]
  },
  {
   "cell_type": "code",
   "execution_count": 127,
   "metadata": {},
   "outputs": [
    {
     "data": {
      "image/png": "[encoded data removed]",
      "text/plain": [
       "<Figure size 1152x576 with 1 Axes>"
      ]
     },
     "metadata": {},
     "output_type": "display_data"
    }
   ],
   "source": [
    "x = np.linspace(-5, 5, 1000)\n",
    "y = np.e**(-x**2) - 2*x\n",
    "\n",
    "plt.figure(figsize=(16,8))\n",
    "sns.set(style=\"darkgrid\")\n",
    "plt.plot(x,y)\n",
    "plt.show()"
   ]
  },
  {
   "cell_type": "markdown",
   "metadata": {},
   "source": [
    "Como podemos observar, a raíz encontra-se no intervalo (0, 1)"
   ]
  },
  {
   "cell_type": "code",
   "execution_count": 128,
   "metadata": {},
   "outputs": [],
   "source": [
    "interval = (0, 1)"
   ]
  },
  {
   "cell_type": "markdown",
   "metadata": {},
   "source": [
    "### Fase 2"
   ]
  },
  {
   "cell_type": "markdown",
   "metadata": {},
   "source": [
    "Começaremos pelos métodos dependentes de um intervalo, que usam um método de busca igual, portanto iremos definí-lo agora:"
   ]
  },
  {
   "cell_type": "code",
   "execution_count": 129,
   "metadata": {},
   "outputs": [],
   "source": [
    "def search(method, interval: tuple, data: list, epsilon=0.00001):\n",
    "    x = interval[0]\n",
    "    data.append({'x': x, 'f(x)': f(x), 'abs_err': np.abs(x - x_real), 'rel_err': np.inf})\n",
    "\n",
    "    while np.abs(f(x)) > epsilon and np.abs(data[-1]['rel_err']) > epsilon:\n",
    "        x = method(interval)\n",
    "        abs_err = np.abs(x - x_real)\n",
    "        rel_err = abs_err/x\n",
    "        data.append({'x': x, 'f(x)': f(x), 'abs_err': abs_err, 'rel_err': rel_err})\n",
    "        interval = (x if f(x)*f(interval[1]) < 0 else interval[0], x if f(x)*f(interval[0]) < 0 else interval[1])\n",
    "    return x"
   ]
  },
  {
   "cell_type": "markdown",
   "metadata": {},
   "source": [
    "- Bisseção"
   ]
  },
  {
   "cell_type": "code",
   "execution_count": 130,
   "metadata": {},
   "outputs": [],
   "source": [
    "def bissection(interval: tuple):\n",
    "    return (interval[0] + interval[1])/2"
   ]
  },
  {
   "cell_type": "code",
   "execution_count": 131,
   "metadata": {},
   "outputs": [
    {
     "name": "stdout",
     "output_type": "stream",
     "text": [
      "x = 0.41936492919921875\n"
     ]
    },
    {
     "data": {
      "text/html": [
       "<div>\n",
       "<style scoped>\n",
       "    .dataframe tbody tr th:only-of-type {\n",
       "        vertical-align: middle;\n",
       "    }\n",
       "\n",
       "    .dataframe tbody tr th {\n",
       "        vertical-align: top;\n",
       "    }\n",
       "\n",
       "    .dataframe thead th {\n",
       "        text-align: right;\n",
       "    }\n",
       "</style>\n",
       "<table border=\"1\" class=\"dataframe\">\n",
       "  <thead>\n",
       "    <tr style=\"text-align: right;\">\n",
       "      <th></th>\n",
       "      <th>x</th>\n",
       "      <th>f(x)</th>\n",
       "      <th>abs_err</th>\n",
       "      <th>rel_err</th>\n",
       "    </tr>\n",
       "  </thead>\n",
       "  <tbody>\n",
       "    <tr>\n",
       "      <th>0</th>\n",
       "      <td>0.000000</td>\n",
       "      <td>1.000000e+00</td>\n",
       "      <td>0.419400</td>\n",
       "      <td>inf</td>\n",
       "    </tr>\n",
       "    <tr>\n",
       "      <th>1</th>\n",
       "      <td>0.500000</td>\n",
       "      <td>-2.211992e-01</td>\n",
       "      <td>0.080600</td>\n",
       "      <td>0.161200</td>\n",
       "    </tr>\n",
       "    <tr>\n",
       "      <th>2</th>\n",
       "      <td>0.250000</td>\n",
       "      <td>4.394131e-01</td>\n",
       "      <td>0.169400</td>\n",
       "      <td>0.677600</td>\n",
       "    </tr>\n",
       "    <tr>\n",
       "      <th>3</th>\n",
       "      <td>0.375000</td>\n",
       "      <td>1.188151e-01</td>\n",
       "      <td>0.044400</td>\n",
       "      <td>0.118400</td>\n",
       "    </tr>\n",
       "    <tr>\n",
       "      <th>4</th>\n",
       "      <td>0.437500</td>\n",
       "      <td>-4.920296e-02</td>\n",
       "      <td>0.018100</td>\n",
       "      <td>0.041371</td>\n",
       "    </tr>\n",
       "    <tr>\n",
       "      <th>5</th>\n",
       "      <td>0.406250</td>\n",
       "      <td>3.536058e-02</td>\n",
       "      <td>0.013150</td>\n",
       "      <td>0.032369</td>\n",
       "    </tr>\n",
       "    <tr>\n",
       "      <th>6</th>\n",
       "      <td>0.421875</td>\n",
       "      <td>-6.789595e-03</td>\n",
       "      <td>0.002475</td>\n",
       "      <td>0.005867</td>\n",
       "    </tr>\n",
       "    <tr>\n",
       "      <th>7</th>\n",
       "      <td>0.414062</td>\n",
       "      <td>1.431928e-02</td>\n",
       "      <td>0.005337</td>\n",
       "      <td>0.012891</td>\n",
       "    </tr>\n",
       "    <tr>\n",
       "      <th>8</th>\n",
       "      <td>0.417969</td>\n",
       "      <td>3.773179e-03</td>\n",
       "      <td>0.001431</td>\n",
       "      <td>0.003424</td>\n",
       "    </tr>\n",
       "    <tr>\n",
       "      <th>9</th>\n",
       "      <td>0.419922</td>\n",
       "      <td>-1.506138e-03</td>\n",
       "      <td>0.000522</td>\n",
       "      <td>0.001243</td>\n",
       "    </tr>\n",
       "    <tr>\n",
       "      <th>10</th>\n",
       "      <td>0.418945</td>\n",
       "      <td>1.134040e-03</td>\n",
       "      <td>0.000455</td>\n",
       "      <td>0.001085</td>\n",
       "    </tr>\n",
       "    <tr>\n",
       "      <th>11</th>\n",
       "      <td>0.419434</td>\n",
       "      <td>-1.859193e-04</td>\n",
       "      <td>0.000034</td>\n",
       "      <td>0.000080</td>\n",
       "    </tr>\n",
       "    <tr>\n",
       "      <th>12</th>\n",
       "      <td>0.419189</td>\n",
       "      <td>4.740928e-04</td>\n",
       "      <td>0.000211</td>\n",
       "      <td>0.000502</td>\n",
       "    </tr>\n",
       "    <tr>\n",
       "      <th>13</th>\n",
       "      <td>0.419312</td>\n",
       "      <td>1.440948e-04</td>\n",
       "      <td>0.000088</td>\n",
       "      <td>0.000211</td>\n",
       "    </tr>\n",
       "    <tr>\n",
       "      <th>14</th>\n",
       "      <td>0.419373</td>\n",
       "      <td>-2.091020e-05</td>\n",
       "      <td>0.000027</td>\n",
       "      <td>0.000065</td>\n",
       "    </tr>\n",
       "    <tr>\n",
       "      <th>15</th>\n",
       "      <td>0.419342</td>\n",
       "      <td>6.159283e-05</td>\n",
       "      <td>0.000058</td>\n",
       "      <td>0.000138</td>\n",
       "    </tr>\n",
       "    <tr>\n",
       "      <th>16</th>\n",
       "      <td>0.419357</td>\n",
       "      <td>2.034144e-05</td>\n",
       "      <td>0.000043</td>\n",
       "      <td>0.000102</td>\n",
       "    </tr>\n",
       "    <tr>\n",
       "      <th>17</th>\n",
       "      <td>0.419365</td>\n",
       "      <td>-2.843509e-07</td>\n",
       "      <td>0.000035</td>\n",
       "      <td>0.000084</td>\n",
       "    </tr>\n",
       "  </tbody>\n",
       "</table>\n",
       "</div>"
      ],
      "text/plain": [
       "           x          f(x)   abs_err   rel_err\n",
       "0   0.000000  1.000000e+00  0.419400       inf\n",
       "1   0.500000 -2.211992e-01  0.080600  0.161200\n",
       "2   0.250000  4.394131e-01  0.169400  0.677600\n",
       "3   0.375000  1.188151e-01  0.044400  0.118400\n",
       "4   0.437500 -4.920296e-02  0.018100  0.041371\n",
       "5   0.406250  3.536058e-02  0.013150  0.032369\n",
       "6   0.421875 -6.789595e-03  0.002475  0.005867\n",
       "7   0.414062  1.431928e-02  0.005337  0.012891\n",
       "8   0.417969  3.773179e-03  0.001431  0.003424\n",
       "9   0.419922 -1.506138e-03  0.000522  0.001243\n",
       "10  0.418945  1.134040e-03  0.000455  0.001085\n",
       "11  0.419434 -1.859193e-04  0.000034  0.000080\n",
       "12  0.419189  4.740928e-04  0.000211  0.000502\n",
       "13  0.419312  1.440948e-04  0.000088  0.000211\n",
       "14  0.419373 -2.091020e-05  0.000027  0.000065\n",
       "15  0.419342  6.159283e-05  0.000058  0.000138\n",
       "16  0.419357  2.034144e-05  0.000043  0.000102\n",
       "17  0.419365 -2.843509e-07  0.000035  0.000084"
      ]
     },
     "execution_count": 131,
     "metadata": {},
     "output_type": "execute_result"
    }
   ],
   "source": [
    "data = []\n",
    "search(bissection, interval, data)\n",
    "print(f'x = {data[-1][\"x\"]}')\n",
    "pd.DataFrame(data)"
   ]
  },
  {
   "cell_type": "markdown",
   "metadata": {},
   "source": [
    "- Falsa Posição"
   ]
  },
  {
   "cell_type": "code",
   "execution_count": 132,
   "metadata": {},
   "outputs": [],
   "source": [
    "def false_position(interval: tuple):\n",
    "    return (interval[0]*f(interval[1]) - interval[1]*f(interval[0]))/(f(interval[1])-f(interval[0]))"
   ]
  },
  {
   "cell_type": "code",
   "execution_count": 133,
   "metadata": {},
   "outputs": [
    {
     "name": "stdout",
     "output_type": "stream",
     "text": [
      "x = 0.4193623080694892\n"
     ]
    },
    {
     "data": {
      "text/html": [
       "<div>\n",
       "<style scoped>\n",
       "    .dataframe tbody tr th:only-of-type {\n",
       "        vertical-align: middle;\n",
       "    }\n",
       "\n",
       "    .dataframe tbody tr th {\n",
       "        vertical-align: top;\n",
       "    }\n",
       "\n",
       "    .dataframe thead th {\n",
       "        text-align: right;\n",
       "    }\n",
       "</style>\n",
       "<table border=\"1\" class=\"dataframe\">\n",
       "  <thead>\n",
       "    <tr style=\"text-align: right;\">\n",
       "      <th></th>\n",
       "      <th>x</th>\n",
       "      <th>f(x)</th>\n",
       "      <th>abs_err</th>\n",
       "      <th>rel_err</th>\n",
       "    </tr>\n",
       "  </thead>\n",
       "  <tbody>\n",
       "    <tr>\n",
       "      <th>0</th>\n",
       "      <td>0.000000</td>\n",
       "      <td>1.000000</td>\n",
       "      <td>0.419400</td>\n",
       "      <td>inf</td>\n",
       "    </tr>\n",
       "    <tr>\n",
       "      <th>1</th>\n",
       "      <td>0.379922</td>\n",
       "      <td>0.105749</td>\n",
       "      <td>0.039478</td>\n",
       "      <td>0.103911</td>\n",
       "    </tr>\n",
       "    <tr>\n",
       "      <th>2</th>\n",
       "      <td>0.417654</td>\n",
       "      <td>0.004625</td>\n",
       "      <td>0.001746</td>\n",
       "      <td>0.004182</td>\n",
       "    </tr>\n",
       "    <tr>\n",
       "      <th>3</th>\n",
       "      <td>0.419299</td>\n",
       "      <td>0.000178</td>\n",
       "      <td>0.000101</td>\n",
       "      <td>0.000241</td>\n",
       "    </tr>\n",
       "    <tr>\n",
       "      <th>4</th>\n",
       "      <td>0.419362</td>\n",
       "      <td>0.000007</td>\n",
       "      <td>0.000038</td>\n",
       "      <td>0.000090</td>\n",
       "    </tr>\n",
       "  </tbody>\n",
       "</table>\n",
       "</div>"
      ],
      "text/plain": [
       "          x      f(x)   abs_err   rel_err\n",
       "0  0.000000  1.000000  0.419400       inf\n",
       "1  0.379922  0.105749  0.039478  0.103911\n",
       "2  0.417654  0.004625  0.001746  0.004182\n",
       "3  0.419299  0.000178  0.000101  0.000241\n",
       "4  0.419362  0.000007  0.000038  0.000090"
      ]
     },
     "execution_count": 133,
     "metadata": {},
     "output_type": "execute_result"
    }
   ],
   "source": [
    "data = []\n",
    "search(false_position, interval, data)\n",
    "print(f'x = {data[-1][\"x\"]}')\n",
    "pd.DataFrame(data)"
   ]
  },
  {
   "cell_type": "markdown",
   "metadata": {},
   "source": [
    "- Secante"
   ]
  },
  {
   "cell_type": "code",
   "execution_count": 69,
   "metadata": {},
   "outputs": [],
   "source": [
    "def sec(x_i, x_j):\n",
    "    return (x_i*f(x_j) - x_j*f(x_i))/(f(x_j)-f(x_i))"
   ]
  },
  {
   "cell_type": "code",
   "execution_count": 70,
   "metadata": {},
   "outputs": [],
   "source": [
    "def iterate(f, x, x0, data:list, epsilon=0.000001):\n",
    "    data.append({'x': x0, 'f(x)': f(x0), 'abs_err': np.abs(x - x_real), 'rel_err': np.inf})\n",
    "\n",
    "    data.append({'x': x, 'f(x)': f(x), 'abs_err': np.abs(x - x_real), 'rel_err': np.abs(x - x_real)/x})\n",
    "\n",
    "    while np.abs(f(x)) > epsilon:\n",
    "        x = sec(data[len(data)-2]['x'], data[-1]['x'])\n",
    "        abs_err = np.abs(x - x_real)\n",
    "        rel_err = abs_err/x\n",
    "        data.append({'x': x, 'f(x)': f(x), 'abs_err': abs_err, 'rel_err': rel_err})\n",
    "\n",
    "    return x"
   ]
  },
  {
   "cell_type": "code",
   "execution_count": 131,
   "metadata": {},
   "outputs": [
    {
     "name": "stdout",
     "output_type": "stream",
     "text": [
      "x = 0.41936487738290595\n"
     ]
    },
    {
     "data": {
      "text/html": [
       "<div>\n",
       "<style scoped>\n",
       "    .dataframe tbody tr th:only-of-type {\n",
       "        vertical-align: middle;\n",
       "    }\n",
       "\n",
       "    .dataframe tbody tr th {\n",
       "        vertical-align: top;\n",
       "    }\n",
       "\n",
       "    .dataframe thead th {\n",
       "        text-align: right;\n",
       "    }\n",
       "</style>\n",
       "<table border=\"1\" class=\"dataframe\">\n",
       "  <thead>\n",
       "    <tr style=\"text-align: right;\">\n",
       "      <th></th>\n",
       "      <th>x</th>\n",
       "      <th>f(x)</th>\n",
       "      <th>abs_err</th>\n",
       "      <th>rel_err</th>\n",
       "    </tr>\n",
       "  </thead>\n",
       "  <tbody>\n",
       "    <tr>\n",
       "      <th>0</th>\n",
       "      <td>0.000000</td>\n",
       "      <td>1.000000e+00</td>\n",
       "      <td>0.319400</td>\n",
       "      <td>inf</td>\n",
       "    </tr>\n",
       "    <tr>\n",
       "      <th>1</th>\n",
       "      <td>0.100000</td>\n",
       "      <td>7.900498e-01</td>\n",
       "      <td>0.319400</td>\n",
       "      <td>3.194000</td>\n",
       "    </tr>\n",
       "    <tr>\n",
       "      <th>2</th>\n",
       "      <td>0.476304</td>\n",
       "      <td>-1.555787e-01</td>\n",
       "      <td>0.056904</td>\n",
       "      <td>0.119469</td>\n",
       "    </tr>\n",
       "    <tr>\n",
       "      <th>3</th>\n",
       "      <td>0.414393</td>\n",
       "      <td>1.342895e-02</td>\n",
       "      <td>0.005007</td>\n",
       "      <td>0.012084</td>\n",
       "    </tr>\n",
       "    <tr>\n",
       "      <th>4</th>\n",
       "      <td>0.419312</td>\n",
       "      <td>1.432935e-04</td>\n",
       "      <td>0.000088</td>\n",
       "      <td>0.000210</td>\n",
       "    </tr>\n",
       "    <tr>\n",
       "      <th>5</th>\n",
       "      <td>0.419365</td>\n",
       "      <td>-1.442672e-07</td>\n",
       "      <td>0.000035</td>\n",
       "      <td>0.000084</td>\n",
       "    </tr>\n",
       "  </tbody>\n",
       "</table>\n",
       "</div>"
      ],
      "text/plain": [
       "          x          f(x)   abs_err   rel_err\n",
       "0  0.000000  1.000000e+00  0.319400       inf\n",
       "1  0.100000  7.900498e-01  0.319400  3.194000\n",
       "2  0.476304 -1.555787e-01  0.056904  0.119469\n",
       "3  0.414393  1.342895e-02  0.005007  0.012084\n",
       "4  0.419312  1.432935e-04  0.000088  0.000210\n",
       "5  0.419365 -1.442672e-07  0.000035  0.000084"
      ]
     },
     "execution_count": 131,
     "metadata": {},
     "output_type": "execute_result"
    }
   ],
   "source": [
    "data = []\n",
    "iterate(0.1, 0, data)\n",
    "print(f'x = {data[-1][\"x\"]}')\n",
    "pd.DataFrame(data)"
   ]
  },
  {
   "cell_type": "markdown",
   "metadata": {},
   "source": [
    "- Newton-Raphson\n",
    "  \n",
    "Aqui precisaremos de outra definição para todas as funções, já será necessário lidar com a biblioteca `sympy` para as derivadas"
   ]
  },
  {
   "cell_type": "code",
   "execution_count": 22,
   "metadata": {},
   "outputs": [],
   "source": [
    "x = sy.Symbol('x')\n",
    "f = math.e**(-x**2) - 2*x"
   ]
  },
  {
   "cell_type": "code",
   "execution_count": 13,
   "metadata": {},
   "outputs": [],
   "source": [
    "def newtonian(xk):\n",
    "    return xk - f.subs(x, xk).evalf()/f.diff(x).subs(x, xk).evalf()"
   ]
  },
  {
   "cell_type": "code",
   "execution_count": 14,
   "metadata": {},
   "outputs": [],
   "source": [
    "def iterate(f, x0, data:list, epsilon=0.000001):\n",
    "    xk = x0\n",
    "    f_x = f.subs(x, xk).evalf()\n",
    "    data.append({'x': xk, 'f(x)': f_x, 'abs_err': np.abs(xk - x_real), 'rel_err': np.inf})\n",
    "    # print(data[-1])\n",
    "\n",
    "    while np.abs(f_x) > epsilon:\n",
    "        xk = newtonian(xk)\n",
    "        f_x = f.subs(x, xk).evalf()\n",
    "        abs_err = np.abs(xk - x_real)\n",
    "        rel_err = abs_err/xk\n",
    "        data.append({'x': xk, 'f(x)': f_x, 'abs_err': abs_err, 'rel_err': rel_err})\n",
    "\n",
    "    return xk"
   ]
  },
  {
   "cell_type": "code",
   "execution_count": 116,
   "metadata": {},
   "outputs": [
    {
     "name": "stdout",
     "output_type": "stream",
     "text": [
      "x = 0.419365037942745\n"
     ]
    },
    {
     "data": {
      "text/html": [
       "<div>\n",
       "<style scoped>\n",
       "    .dataframe tbody tr th:only-of-type {\n",
       "        vertical-align: middle;\n",
       "    }\n",
       "\n",
       "    .dataframe tbody tr th {\n",
       "        vertical-align: top;\n",
       "    }\n",
       "\n",
       "    .dataframe thead th {\n",
       "        text-align: right;\n",
       "    }\n",
       "</style>\n",
       "<table border=\"1\" class=\"dataframe\">\n",
       "  <thead>\n",
       "    <tr style=\"text-align: right;\">\n",
       "      <th></th>\n",
       "      <th>x</th>\n",
       "      <th>f(x)</th>\n",
       "      <th>abs_err</th>\n",
       "      <th>rel_err</th>\n",
       "    </tr>\n",
       "  </thead>\n",
       "  <tbody>\n",
       "    <tr>\n",
       "      <th>0</th>\n",
       "      <td>0</td>\n",
       "      <td>1.00000000000000</td>\n",
       "      <td>0.4194</td>\n",
       "      <td>inf</td>\n",
       "    </tr>\n",
       "    <tr>\n",
       "      <th>1</th>\n",
       "      <td>0.500000000000000</td>\n",
       "      <td>-0.221199216928595</td>\n",
       "      <td>0.0806000000000000</td>\n",
       "      <td>0.161200000000000</td>\n",
       "    </tr>\n",
       "    <tr>\n",
       "      <th>2</th>\n",
       "      <td>0.420397598030002</td>\n",
       "      <td>-0.00279265015292463</td>\n",
       "      <td>0.000997598030002045</td>\n",
       "      <td>0.00237298698821502</td>\n",
       "    </tr>\n",
       "    <tr>\n",
       "      <th>3</th>\n",
       "      <td>0.419365037942745</td>\n",
       "      <td>-5.78335541456809e-7</td>\n",
       "      <td>3.49620572553389e-5</td>\n",
       "      <td>8.33690319699759e-5</td>\n",
       "    </tr>\n",
       "  </tbody>\n",
       "</table>\n",
       "</div>"
      ],
      "text/plain": [
       "                   x                  f(x)               abs_err  \\\n",
       "0                  0      1.00000000000000                0.4194   \n",
       "1  0.500000000000000    -0.221199216928595    0.0806000000000000   \n",
       "2  0.420397598030002  -0.00279265015292463  0.000997598030002045   \n",
       "3  0.419365037942745  -5.78335541456809e-7   3.49620572553389e-5   \n",
       "\n",
       "               rel_err  \n",
       "0                  inf  \n",
       "1    0.161200000000000  \n",
       "2  0.00237298698821502  \n",
       "3  8.33690319699759e-5  "
      ]
     },
     "execution_count": 116,
     "metadata": {},
     "output_type": "execute_result"
    }
   ],
   "source": [
    "data = []\n",
    "iterate(0)\n",
    "print(f'x = {data[-1][\"x\"]}')\n",
    "pd.DataFrame(data)"
   ]
  },
  {
   "cell_type": "markdown",
   "metadata": {},
   "source": [
    "<hr>"
   ]
  },
  {
   "cell_type": "markdown",
   "metadata": {},
   "source": [
    "## Questão 4\n",
    "Uma indústria consome energia elétrica de duas usinas fornecedoras. O custo de fornecimento em reais por hora como função da potência consumida em quilowatt é dada pelas\n",
    "seguintes funções:\n",
    "$$C_1(x) = 500 + 0.13x + 4.1*10^{-5}x^2 + 2.1*10^{-7}x^3 + 4.13*10^{-10}x^4$$\n",
    "$$C_2(x) = 1000 + 0.22x + 6.13*10^{-5}x^2 + 8.13*10^{-7}x^3$$\n",
    "Onde C1 e C2 são os custos de fornecimento das usinas 1 e 2, respectivamente. Calcule o custo mínimo da energia elétrica quando a potência total consumida é de 1500 kilowatt."
   ]
  },
  {
   "cell_type": "markdown",
   "metadata": {},
   "source": [
    "**Resposta:** Sabendo que a potência total consumida equivale à soma do consumo das duas usinas, podemos concluir que:\n",
    "$$C_{total} = C_1(x) + C_2(1500 - x)$$\n",
    "Logo, nos resta encontrar a raíz da derivada dessa função, a fim de encontrar o mínimo global, que equivale à seguinte função:\n",
    "$$C'_{total} = \\frac{413x^3 - 452250x^2 + 18804*10^{5}x - 14404125*10^{5}}{25*10^{10}}$$\n",
    "Primeiro, iremos fazer uma iteração com baixa precisão a fim de encontrar um mínimo aproximado e podermos definir o intervalo em que faremos nossa busca"
   ]
  },
  {
   "cell_type": "code",
   "execution_count": 66,
   "metadata": {},
   "outputs": [
    {
     "name": "stdout",
     "output_type": "stream",
     "text": [
      "x ≈ 807.205\n"
     ]
    }
   ],
   "source": [
    "def c1(x):\n",
    "    return 500 + 0.13*x + 4.1*10**(-5)*x**2 + 2.1*10**(-7)*x**3 + 4.13*10**-10*x**4\n",
    "\n",
    "def c2(x):\n",
    "    return 1000 + 0.22*x + 6.13*10**(-5)*x**2 + 8.13*10**(-7)*x**3\n",
    "\n",
    "min = np. inf\n",
    "last = -1\n",
    "for i in np.arange(0, 1500, 0.001):\n",
    "    if c1(i) + c2(1500-i) < min:\n",
    "        min = c1(i) + c2(1500-i)\n",
    "        last = i\n",
    "\n",
    "print(f'x ≈ {last}')"
   ]
  },
  {
   "cell_type": "markdown",
   "metadata": {},
   "source": [
    "Agora, podemos considerar que a raíz se encontra dentro do intervalo (807, 808). Iremos utilizar o método da bissessão visto que ele **sempre** converge"
   ]
  },
  {
   "cell_type": "code",
   "execution_count": 59,
   "metadata": {},
   "outputs": [],
   "source": [
    "def bissection(interval: tuple):\n",
    "    return (interval[0] + interval[1])/2\n",
    "\n",
    "def iterate(f, method, interval: tuple, data:list, epsilon=1e-7):\n",
    "    x = interval[0]\n",
    "    data.append({'x': x, 'f(x)': f(x), 'abs_err': None, 'rel_err': None})\n",
    "\n",
    "    while np.abs(f(x)) > epsilon:\n",
    "        x = method(interval)\n",
    "        abs_err = np.abs(data[-1]['x'] - x)\n",
    "        rel_err = abs_err/data[-1]['x']\n",
    "        data.append({'x': x, 'f(x)': f(x), 'abs_err': abs_err, 'rel_err': rel_err})\n",
    "        interval = (x if f(x)*f(interval[1]) < 0 else interval[0], x if f(x)*f(interval[0]) < 0 else interval[1])\n",
    "    return x"
   ]
  },
  {
   "cell_type": "code",
   "execution_count": 56,
   "metadata": {},
   "outputs": [],
   "source": [
    "def c_t(x):\n",
    "    return (413*x**3 - 452250*x**2 + 1880400000*x - 1440412500000)/250000000000"
   ]
  },
  {
   "cell_type": "code",
   "execution_count": 60,
   "metadata": {},
   "outputs": [
    {
     "name": "stdout",
     "output_type": "stream",
     "text": [
      "x = 807.2051696777344\n"
     ]
    },
    {
     "data": {
      "text/html": [
       "<div>\n",
       "<style scoped>\n",
       "    .dataframe tbody tr th:only-of-type {\n",
       "        vertical-align: middle;\n",
       "    }\n",
       "\n",
       "    .dataframe tbody tr th {\n",
       "        vertical-align: top;\n",
       "    }\n",
       "\n",
       "    .dataframe thead th {\n",
       "        text-align: right;\n",
       "    }\n",
       "</style>\n",
       "<table border=\"1\" class=\"dataframe\">\n",
       "  <thead>\n",
       "    <tr style=\"text-align: right;\">\n",
       "      <th></th>\n",
       "      <th>x</th>\n",
       "      <th>f(x)</th>\n",
       "      <th>abs_err</th>\n",
       "      <th>rel_err</th>\n",
       "    </tr>\n",
       "  </thead>\n",
       "  <tbody>\n",
       "    <tr>\n",
       "      <th>0</th>\n",
       "      <td>807.000000</td>\n",
       "      <td>-1.606519e-03</td>\n",
       "      <td>NaN</td>\n",
       "      <td>NaN</td>\n",
       "    </tr>\n",
       "    <tr>\n",
       "      <th>1</th>\n",
       "      <td>807.500000</td>\n",
       "      <td>2.308761e-03</td>\n",
       "      <td>0.500000</td>\n",
       "      <td>6.195787e-04</td>\n",
       "    </tr>\n",
       "    <tr>\n",
       "      <th>2</th>\n",
       "      <td>807.250000</td>\n",
       "      <td>3.509838e-04</td>\n",
       "      <td>0.250000</td>\n",
       "      <td>3.095975e-04</td>\n",
       "    </tr>\n",
       "    <tr>\n",
       "      <th>3</th>\n",
       "      <td>807.125000</td>\n",
       "      <td>-6.278019e-04</td>\n",
       "      <td>0.125000</td>\n",
       "      <td>1.548467e-04</td>\n",
       "    </tr>\n",
       "    <tr>\n",
       "      <th>4</th>\n",
       "      <td>807.187500</td>\n",
       "      <td>-1.384176e-04</td>\n",
       "      <td>0.062500</td>\n",
       "      <td>7.743534e-05</td>\n",
       "    </tr>\n",
       "    <tr>\n",
       "      <th>5</th>\n",
       "      <td>807.218750</td>\n",
       "      <td>1.062809e-04</td>\n",
       "      <td>0.031250</td>\n",
       "      <td>3.871467e-05</td>\n",
       "    </tr>\n",
       "    <tr>\n",
       "      <th>6</th>\n",
       "      <td>807.203125</td>\n",
       "      <td>-1.606889e-05</td>\n",
       "      <td>0.015625</td>\n",
       "      <td>1.935659e-05</td>\n",
       "    </tr>\n",
       "    <tr>\n",
       "      <th>7</th>\n",
       "      <td>807.210938</td>\n",
       "      <td>4.510589e-05</td>\n",
       "      <td>0.007812</td>\n",
       "      <td>9.678481e-06</td>\n",
       "    </tr>\n",
       "    <tr>\n",
       "      <th>8</th>\n",
       "      <td>807.207031</td>\n",
       "      <td>1.451847e-05</td>\n",
       "      <td>0.003906</td>\n",
       "      <td>4.839194e-06</td>\n",
       "    </tr>\n",
       "    <tr>\n",
       "      <th>9</th>\n",
       "      <td>807.205078</td>\n",
       "      <td>-7.752182e-07</td>\n",
       "      <td>0.001953</td>\n",
       "      <td>2.419609e-06</td>\n",
       "    </tr>\n",
       "    <tr>\n",
       "      <th>10</th>\n",
       "      <td>807.206055</td>\n",
       "      <td>6.871622e-06</td>\n",
       "      <td>0.000977</td>\n",
       "      <td>1.209807e-06</td>\n",
       "    </tr>\n",
       "    <tr>\n",
       "      <th>11</th>\n",
       "      <td>807.205566</td>\n",
       "      <td>3.048202e-06</td>\n",
       "      <td>0.000488</td>\n",
       "      <td>6.049029e-07</td>\n",
       "    </tr>\n",
       "    <tr>\n",
       "      <th>12</th>\n",
       "      <td>807.205322</td>\n",
       "      <td>1.136492e-06</td>\n",
       "      <td>0.000244</td>\n",
       "      <td>3.024516e-07</td>\n",
       "    </tr>\n",
       "    <tr>\n",
       "      <th>13</th>\n",
       "      <td>807.205200</td>\n",
       "      <td>1.806366e-07</td>\n",
       "      <td>0.000122</td>\n",
       "      <td>1.512259e-07</td>\n",
       "    </tr>\n",
       "    <tr>\n",
       "      <th>14</th>\n",
       "      <td>807.205139</td>\n",
       "      <td>-2.972908e-07</td>\n",
       "      <td>0.000061</td>\n",
       "      <td>7.561294e-08</td>\n",
       "    </tr>\n",
       "    <tr>\n",
       "      <th>15</th>\n",
       "      <td>807.205170</td>\n",
       "      <td>-5.832712e-08</td>\n",
       "      <td>0.000031</td>\n",
       "      <td>3.780647e-08</td>\n",
       "    </tr>\n",
       "  </tbody>\n",
       "</table>\n",
       "</div>"
      ],
      "text/plain": [
       "             x          f(x)   abs_err       rel_err\n",
       "0   807.000000 -1.606519e-03       NaN           NaN\n",
       "1   807.500000  2.308761e-03  0.500000  6.195787e-04\n",
       "2   807.250000  3.509838e-04  0.250000  3.095975e-04\n",
       "3   807.125000 -6.278019e-04  0.125000  1.548467e-04\n",
       "4   807.187500 -1.384176e-04  0.062500  7.743534e-05\n",
       "5   807.218750  1.062809e-04  0.031250  3.871467e-05\n",
       "6   807.203125 -1.606889e-05  0.015625  1.935659e-05\n",
       "7   807.210938  4.510589e-05  0.007812  9.678481e-06\n",
       "8   807.207031  1.451847e-05  0.003906  4.839194e-06\n",
       "9   807.205078 -7.752182e-07  0.001953  2.419609e-06\n",
       "10  807.206055  6.871622e-06  0.000977  1.209807e-06\n",
       "11  807.205566  3.048202e-06  0.000488  6.049029e-07\n",
       "12  807.205322  1.136492e-06  0.000244  3.024516e-07\n",
       "13  807.205200  1.806366e-07  0.000122  1.512259e-07\n",
       "14  807.205139 -2.972908e-07  0.000061  7.561294e-08\n",
       "15  807.205170 -5.832712e-08  0.000031  3.780647e-08"
      ]
     },
     "execution_count": 60,
     "metadata": {},
     "output_type": "execute_result"
    }
   ],
   "source": [
    "data = []\n",
    "iterate(c_t, bissection, (807, 808), data)\n",
    "print(f'x = {data[-1][\"x\"]}')\n",
    "pd.DataFrame(data)"
   ]
  },
  {
   "cell_type": "code",
   "execution_count": 61,
   "metadata": {},
   "outputs": [],
   "source": [
    "def c_total(x):\n",
    "    return 500 + 0.13*x + 4.1*10**(-5)*x**2 + 2.1*10**(-7)*x**3 + 4.13*10**-10*x**4 + 1000 + 0.22*(1500-x) + 6.13*10**(-5)*(1500-x)**2 + 8.13*10**(-7)*(1500-x)**3"
   ]
  },
  {
   "cell_type": "code",
   "execution_count": 68,
   "metadata": {},
   "outputs": [
    {
     "name": "stdout",
     "output_type": "stream",
     "text": [
      "O custo mínimo para um consumo de 1500 kW é de 2369.617817137766 R$/h\n"
     ]
    }
   ],
   "source": [
    "print(f'O custo mínimo para um consumo de 1500 kW é de {c_total(807.2051696777344)} R$/h')"
   ]
  },
  {
   "cell_type": "markdown",
   "metadata": {},
   "source": [
    "<hr>"
   ]
  },
  {
   "cell_type": "markdown",
   "metadata": {},
   "source": [
    "## Questão 5\n",
    "Deformação de pneus - Quando o pneu fica livre para se mover para cima e para baixo excessivamente, um movimento rítmico se desenvolve e dá início a um padrão de desgaste\n",
    "com espaçamento uniforme. Diferentemente das condições de um pneu balanceado, a frequência do padrão de desgaste é maior em pequenos movimentos do pneu que **não estão sendo amortecidos por molas ou amortecedores desgastados**. Conforme a condição se agrava, ocorrem ruídos e a perda de tração além, claro, do desgaste do pneu.\n",
    "\n",
    "A função abaixo modela o deslocamento do pneu (mm) em função do tempo (s) na direção vertical.\n",
    "$$s(t) = e^{\\frac{-t}{13}} + t\\cos(2t)$$"
   ]
  },
  {
   "cell_type": "code",
   "execution_count": 14,
   "metadata": {},
   "outputs": [],
   "source": [
    "def s(t):\n",
    "    return np.e**(-t/13) + t*np.cos(2*t)"
   ]
  },
  {
   "cell_type": "markdown",
   "metadata": {},
   "source": [
    "a) Construa o gráfico que modela este fenômeno"
   ]
  },
  {
   "cell_type": "code",
   "execution_count": 105,
   "metadata": {},
   "outputs": [
    {
     "data": {
      "image/png": "[encoded data removed]",
      "text/plain": [
       "<Figure size 1152x576 with 1 Axes>"
      ]
     },
     "metadata": {},
     "output_type": "display_data"
    }
   ],
   "source": [
    "x = np.linspace(0, 20, 1000)\n",
    "y = np.e**(-x/13) + x*np.cos(2*x)\n",
    "\n",
    "plt.figure(figsize=(16,8))\n",
    "sns.set(style=\"darkgrid\")\n",
    "plt.plot(x,y)\n",
    "plt.show()"
   ]
  },
  {
   "cell_type": "markdown",
   "metadata": {},
   "source": [
    "b) Utilize **dois métodos iterativos** para encontrar o tempo de **deslocamento máximo**, logo após decorridos 15s. Considere uma precisão de 10-7 e os dois critérios de convergência."
   ]
  },
  {
   "cell_type": "markdown",
   "metadata": {},
   "source": [
    "**Resposta:** Como podemos observar no gráfico, há um pico logo em frente aos 15s, e o seu valor representaria o deslocamento máximo logo após os 15s. Então para encontrar o tempo em que ele se dá, devemos encontrar quando a derivada após 15s se equivale a 0, o que nos indicaria um ponto de máximo local na função\n",
    "$$s'(t) = -2t\\sin\\left(2t\\right)+\\cos\\left(2t\\right)+\\dfrac{\\mathrm{e}^\\frac{t}{13}}{13}$$"
   ]
  },
  {
   "cell_type": "code",
   "execution_count": 23,
   "metadata": {},
   "outputs": [],
   "source": [
    "def s_(t):\n",
    "    return -2*t*np.sin(2*t) + np.cos(2*t) + np.e**(t/13)/13"
   ]
  },
  {
   "cell_type": "markdown",
   "metadata": {},
   "source": [
    "### Newton"
   ]
  },
  {
   "cell_type": "code",
   "execution_count": 1,
   "metadata": {},
   "outputs": [],
   "source": [
    "def newtonian(xk):\n",
    "    return xk - f.subs(x, xk).evalf()/f.diff(x).subs(x, xk).evalf()\n",
    "\n",
    "def iterate(x0, data, epsilon=1e-7):\n",
    "    xk = x0\n",
    "    f_x = f.subs(x, xk).evalf()\n",
    "    data.append({'x': xk, 'f(x)': f_x, 'abs_err': np.inf, 'rel_err': np.inf})\n",
    "\n",
    "    while np.abs(f_x) > epsilon and np.abs(data[-1]['rel_err']) > epsilon:\n",
    "        xk = newtonian(xk)\n",
    "        f_x = f.subs(x, xk).evalf()\n",
    "        abs_err = np.abs(data[-1]['x'] - xk)\n",
    "        rel_err = abs_err/data[-1]['x']\n",
    "        data.append({'x': xk, 'f(x)': f_x, 'abs_err': abs_err, 'rel_err': rel_err})\n",
    "\n",
    "    return xk"
   ]
  },
  {
   "cell_type": "code",
   "execution_count": 22,
   "metadata": {},
   "outputs": [],
   "source": [
    "x = sy.Symbol('x')\n",
    "f = -2*x*sy.sin(2*x) + sy.cos(2*x) + np.e**(x/13)/13"
   ]
  },
  {
   "cell_type": "code",
   "execution_count": 9,
   "metadata": {},
   "outputs": [
    {
     "name": "stdout",
     "output_type": "stream",
     "text": [
      "x = 15.7234929757978\n"
     ]
    },
    {
     "data": {
      "text/html": [
       "<div>\n",
       "<style scoped>\n",
       "    .dataframe tbody tr th:only-of-type {\n",
       "        vertical-align: middle;\n",
       "    }\n",
       "\n",
       "    .dataframe tbody tr th {\n",
       "        vertical-align: top;\n",
       "    }\n",
       "\n",
       "    .dataframe thead th {\n",
       "        text-align: right;\n",
       "    }\n",
       "</style>\n",
       "<table border=\"1\" class=\"dataframe\">\n",
       "  <thead>\n",
       "    <tr style=\"text-align: right;\">\n",
       "      <th></th>\n",
       "      <th>x</th>\n",
       "      <th>f(x)</th>\n",
       "      <th>abs_err</th>\n",
       "      <th>rel_err</th>\n",
       "    </tr>\n",
       "  </thead>\n",
       "  <tbody>\n",
       "    <tr>\n",
       "      <th>0</th>\n",
       "      <td>16</td>\n",
       "      <td>-16.8338971948962</td>\n",
       "      <td>inf</td>\n",
       "      <td>inf</td>\n",
       "    </tr>\n",
       "    <tr>\n",
       "      <th>1</th>\n",
       "      <td>15.6972008786294</td>\n",
       "      <td>1.65247752011983</td>\n",
       "      <td>0.302799121370557</td>\n",
       "      <td>0.0189249450856598</td>\n",
       "    </tr>\n",
       "    <tr>\n",
       "      <th>2</th>\n",
       "      <td>15.7235619010444</td>\n",
       "      <td>-0.00434137017965397</td>\n",
       "      <td>0.0263610224149868</td>\n",
       "      <td>0.00167934542080527</td>\n",
       "    </tr>\n",
       "    <tr>\n",
       "      <th>3</th>\n",
       "      <td>15.7234929757978</td>\n",
       "      <td>-1.91843864127961e-8</td>\n",
       "      <td>6.89252466088419e-5</td>\n",
       "      <td>4.38356442659876e-6</td>\n",
       "    </tr>\n",
       "  </tbody>\n",
       "</table>\n",
       "</div>"
      ],
      "text/plain": [
       "                  x                  f(x)              abs_err  \\\n",
       "0                16     -16.8338971948962                  inf   \n",
       "1  15.6972008786294      1.65247752011983    0.302799121370557   \n",
       "2  15.7235619010444  -0.00434137017965397   0.0263610224149868   \n",
       "3  15.7234929757978  -1.91843864127961e-8  6.89252466088419e-5   \n",
       "\n",
       "               rel_err  \n",
       "0                  inf  \n",
       "1   0.0189249450856598  \n",
       "2  0.00167934542080527  \n",
       "3  4.38356442659876e-6  "
      ]
     },
     "execution_count": 9,
     "metadata": {},
     "output_type": "execute_result"
    }
   ],
   "source": [
    "data = []\n",
    "iterate(16, data)\n",
    "print(f'x = {data[-1][\"x\"]}')\n",
    "pd.DataFrame(data)"
   ]
  },
  {
   "cell_type": "markdown",
   "metadata": {},
   "source": [
    "### Secante"
   ]
  },
  {
   "cell_type": "code",
   "execution_count": 31,
   "metadata": {},
   "outputs": [],
   "source": [
    "def sec(f, x_i, x_j):\n",
    "    return (x_i*f(x_j) - x_j*f(x_i))/(f(x_j)-f(x_i))\n",
    "\n",
    "\n",
    "def iterate(f, x, x0, data, epsilon=1e-7):\n",
    "    data.append({'x': x0, 'f(x)': f(x0), 'abs_err': np.inf, 'rel_err': np.inf})\n",
    "    data.append({'x': x, 'f(x)': f(x), 'abs_err': np.inf, 'rel_err': np.inf})\n",
    "\n",
    "    while np.abs(f(x)) > epsilon:\n",
    "        x = sec(f, data[len(data)-2]['x'], data[-1]['x'])\n",
    "        abs_err = np.abs(data[-1]['x'] - x)\n",
    "        rel_err = abs_err/data[-1]['x']\n",
    "        data.append({'x': x, 'f(x)': f(x), 'abs_err': abs_err, 'rel_err': rel_err})\n",
    "\n",
    "    return x"
   ]
  },
  {
   "cell_type": "code",
   "execution_count": 32,
   "metadata": {},
   "outputs": [
    {
     "name": "stdout",
     "output_type": "stream",
     "text": [
      "x = 15.72795086341146\n"
     ]
    },
    {
     "data": {
      "text/html": [
       "<div>\n",
       "<style scoped>\n",
       "    .dataframe tbody tr th:only-of-type {\n",
       "        vertical-align: middle;\n",
       "    }\n",
       "\n",
       "    .dataframe tbody tr th {\n",
       "        vertical-align: top;\n",
       "    }\n",
       "\n",
       "    .dataframe thead th {\n",
       "        text-align: right;\n",
       "    }\n",
       "</style>\n",
       "<table border=\"1\" class=\"dataframe\">\n",
       "  <thead>\n",
       "    <tr style=\"text-align: right;\">\n",
       "      <th></th>\n",
       "      <th>x</th>\n",
       "      <th>f(x)</th>\n",
       "      <th>abs_err</th>\n",
       "      <th>rel_err</th>\n",
       "    </tr>\n",
       "  </thead>\n",
       "  <tbody>\n",
       "    <tr>\n",
       "      <th>0</th>\n",
       "      <td>16.000000</td>\n",
       "      <td>-1.654806e+01</td>\n",
       "      <td>inf</td>\n",
       "      <td>inf</td>\n",
       "    </tr>\n",
       "    <tr>\n",
       "      <th>1</th>\n",
       "      <td>16.100000</td>\n",
       "      <td>-2.176521e+01</td>\n",
       "      <td>inf</td>\n",
       "      <td>inf</td>\n",
       "    </tr>\n",
       "    <tr>\n",
       "      <th>2</th>\n",
       "      <td>15.682814</td>\n",
       "      <td>2.832728e+00</td>\n",
       "      <td>4.171858e-01</td>\n",
       "      <td>2.591216e-02</td>\n",
       "    </tr>\n",
       "    <tr>\n",
       "      <th>3</th>\n",
       "      <td>15.730858</td>\n",
       "      <td>-1.831719e-01</td>\n",
       "      <td>4.804362e-02</td>\n",
       "      <td>3.063456e-03</td>\n",
       "    </tr>\n",
       "    <tr>\n",
       "      <th>4</th>\n",
       "      <td>15.727940</td>\n",
       "      <td>6.918061e-04</td>\n",
       "      <td>2.917950e-03</td>\n",
       "      <td>1.854921e-04</td>\n",
       "    </tr>\n",
       "    <tr>\n",
       "      <th>5</th>\n",
       "      <td>15.727951</td>\n",
       "      <td>1.071799e-07</td>\n",
       "      <td>1.097908e-05</td>\n",
       "      <td>6.980623e-07</td>\n",
       "    </tr>\n",
       "    <tr>\n",
       "      <th>6</th>\n",
       "      <td>15.727951</td>\n",
       "      <td>-1.275646e-13</td>\n",
       "      <td>1.701228e-09</td>\n",
       "      <td>1.081659e-10</td>\n",
       "    </tr>\n",
       "  </tbody>\n",
       "</table>\n",
       "</div>"
      ],
      "text/plain": [
       "           x          f(x)       abs_err       rel_err\n",
       "0  16.000000 -1.654806e+01           inf           inf\n",
       "1  16.100000 -2.176521e+01           inf           inf\n",
       "2  15.682814  2.832728e+00  4.171858e-01  2.591216e-02\n",
       "3  15.730858 -1.831719e-01  4.804362e-02  3.063456e-03\n",
       "4  15.727940  6.918061e-04  2.917950e-03  1.854921e-04\n",
       "5  15.727951  1.071799e-07  1.097908e-05  6.980623e-07\n",
       "6  15.727951 -1.275646e-13  1.701228e-09  1.081659e-10"
      ]
     },
     "execution_count": 32,
     "metadata": {},
     "output_type": "execute_result"
    }
   ],
   "source": [
    "data = []\n",
    "iterate(s_, 16.1, 16, data)\n",
    "print(f'x = {data[-1][\"x\"]}')\n",
    "pd.DataFrame(data)"
   ]
  },
  {
   "cell_type": "markdown",
   "metadata": {},
   "source": [
    "A fim de checar se o ponto encontrado se situa de fato no pico em que imaginamos, faremos um plot do ponto."
   ]
  },
  {
   "cell_type": "code",
   "execution_count": 27,
   "metadata": {},
   "outputs": [
    {
     "data": {
      "image/png": "[encoded data removed]",
      "text/plain": [
       "<Figure size 1152x576 with 1 Axes>"
      ]
     },
     "metadata": {},
     "output_type": "display_data"
    }
   ],
   "source": [
    "x = np.linspace(14, 17, 1000)\n",
    "y = np.e**(-x/13) + x*np.cos(2*x)\n",
    "\n",
    "plt.figure(figsize=(16,8))\n",
    "sns.set(style=\"darkgrid\")\n",
    "plt.scatter([15.7234929757978], [s(15.7234929757978)])\n",
    "plt.plot(x,y)\n",
    "plt.show()"
   ]
  },
  {
   "cell_type": "markdown",
   "metadata": {},
   "source": [
    "Como podemos ver, ele se encaixa exatamente em cima do pico!"
   ]
  },
  {
   "cell_type": "markdown",
   "metadata": {},
   "source": [
    "c) Compare o tempo e deslocamento encontrado por cada método."
   ]
  },
  {
   "cell_type": "markdown",
   "metadata": {},
   "source": [
    "- Newton"
   ]
  },
  {
   "cell_type": "code",
   "execution_count": 28,
   "metadata": {},
   "outputs": [
    {
     "data": {
      "text/plain": [
       "16.014256035004745"
      ]
     },
     "execution_count": 28,
     "metadata": {},
     "output_type": "execute_result"
    }
   ],
   "source": [
    "s(15.7234929757978)"
   ]
  },
  {
   "cell_type": "markdown",
   "metadata": {},
   "source": [
    "- Secante"
   ]
  },
  {
   "cell_type": "code",
   "execution_count": 29,
   "metadata": {},
   "outputs": [
    {
     "data": {
      "text/plain": [
       "16.01363006586434"
      ]
     },
     "execution_count": 29,
     "metadata": {},
     "output_type": "execute_result"
    }
   ],
   "source": [
    "s(15.72795086341146)"
   ]
  },
  {
   "cell_type": "markdown",
   "metadata": {},
   "source": [
    "- Diferença entre deslocamentos encontrados por cada método"
   ]
  },
  {
   "cell_type": "code",
   "execution_count": 30,
   "metadata": {},
   "outputs": [
    {
     "data": {
      "text/plain": [
       "0.0006259691404046919"
      ]
     },
     "execution_count": 30,
     "metadata": {},
     "output_type": "execute_result"
    }
   ],
   "source": [
    "#s(newton) - s(secante)\n",
    "16.014256035004745 - 16.01363006586434"
   ]
  },
  {
   "cell_type": "markdown",
   "metadata": {},
   "source": [
    "**Resposta:** Comparando os métodos, podemos ver que houve uma pequena diferença encontrada entre os tempos encontrados. O método de Newton se mostrou mais eficiente, uma vez que necessitou de menos iterações para conseguir convergir e também conseguiu um valor de deslocamento mais alto comparado ao método da secante."
   ]
  }
 ],
 "metadata": {
  "kernelspec": {
   "display_name": "Python 3 (ipykernel)",
   "language": "python",
   "name": "python3"
  },
  "language_info": {
   "codemirror_mode": {
    "name": "ipython",
    "version": 3
   },
   "file_extension": ".py",
   "mimetype": "text/x-python",
   "name": "python",
   "nbconvert_exporter": "python",
   "pygments_lexer": "ipython3",
   "version": "3.10.4"
  },
  "vscode": {
   "interpreter": {
    "hash": "916dbcbb3f70747c44a77c7bcd40155683ae19c65e1c03b4aa3499c5328201f1"
   }
  }
 },
 "nbformat": 4,
 "nbformat_minor": 2
}
